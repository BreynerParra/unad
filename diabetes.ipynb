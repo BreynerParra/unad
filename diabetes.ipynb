{
 "cells": [
  {
   "cell_type": "markdown",
   "id": "3daa6207-6047-4512-abd3-7a37376b4c08",
   "metadata": {},
   "source": [
    "# UNAD\n",
    "## Breyner Alexander Parra\n",
    "## Predicción de Diabetes con Regresión Logística"
   ]
  },
  {
   "attachments": {},
   "cell_type": "markdown",
   "id": "afccb372-c811-4710-93fa-db94150910ec",
   "metadata": {},
   "source": [
    "## Pasos de la Actividad\n",
    "1. Realizar un análisis exploratorio de los datos para identificar relaciones entre variables, valores atípicos, tendencias, etc.\n",
    "2. Preprocesar los datos limpiándolos, tratando valores faltantes y transformándolos según sea necesario\n",
    "3. Seleccionar las características más relevantes para entrenar el modelo utilizando selección de características\n",
    "4. Dividir el dataset en Train y Test para evaluar correctamente el modelo\n",
    "5. Entrenar el modelo configurando los diferentes hiperparámetros\n",
    "6. Evaluar el desempeño del modelo en el conjunto de Test con métricas como precisión, recall, F1-score, etc\n",
    "7. Realizar las diferentes gráficas que permitan visualizar los resultados del modelo.\n",
    "8. Interpretar, analizar y documentar los resultados obtenidos\n",
    "9. Crear una cuenta en GitHub y cargar los códigos de los modelos diseñados https://github.com/ "
   ]
  },
  {
   "cell_type": "markdown",
   "id": "53f167a9-6890-4097-b4a5-e7f22672e6a1",
   "metadata": {},
   "source": [
    "## 1. Realizar un análisis exploratorio de los datos para identificar relaciones entre variables, valores atípicos, tendencias, etc."
   ]
  },
  {
   "cell_type": "code",
   "execution_count": 1,
   "id": "a1593306-6eb1-4251-9c81-081d79c78511",
   "metadata": {},
   "outputs": [],
   "source": [
    "#Cargar las librerias necesarias\n",
    "\n",
    "import pandas as pd # Manejo y análisis de estructuras de datos\n",
    "import numpy as np # Cálculo numérico y el análisis de datos\n",
    "import seaborn as sns # Creación gráficos estadísticos\n",
    "import matplotlib.pyplot as plt # Creación de gráficos en dos dimensiones\n",
    "\n",
    "# librerías de para implementar modelos de ciencia de datos\n",
    "from sklearn import metrics\n",
    "from sklearn.model_selection import train_test_split\n",
    "from sklearn.linear_model import LogisticRegression\n",
    "from sklearn.metrics import classification_report, confusion_matrix\n",
    "\n"
   ]
  },
  {
   "cell_type": "code",
   "execution_count": 7,
   "id": "f3962b87-10dd-43e4-92f5-be80aa2f66b4",
   "metadata": {},
   "outputs": [],
   "source": [
    "# lectura de datos en Python y lo cargamos en la variable Datos\n",
    "\n",
    "Datos = pd.read_csv('C:/unad/Diabetes.csv')"
   ]
  },
  {
   "cell_type": "code",
   "execution_count": 10,
   "id": "417586f1-3f2c-41ff-b924-f092a415f940",
   "metadata": {},
   "outputs": [
    {
     "data": {
      "text/html": [
       "<div>\n",
       "<style scoped>\n",
       "    .dataframe tbody tr th:only-of-type {\n",
       "        vertical-align: middle;\n",
       "    }\n",
       "\n",
       "    .dataframe tbody tr th {\n",
       "        vertical-align: top;\n",
       "    }\n",
       "\n",
       "    .dataframe thead th {\n",
       "        text-align: right;\n",
       "    }\n",
       "</style>\n",
       "<table border=\"1\" class=\"dataframe\">\n",
       "  <thead>\n",
       "    <tr style=\"text-align: right;\">\n",
       "      <th></th>\n",
       "      <th>Semanas_Embarazo</th>\n",
       "      <th>Nivel_Glucosa</th>\n",
       "      <th>Presión_Arterial</th>\n",
       "      <th>Grosor_Piel</th>\n",
       "      <th>Nivel_Insulina</th>\n",
       "      <th>IMC</th>\n",
       "      <th>Funcion_Pedigrí</th>\n",
       "      <th>Edad</th>\n",
       "      <th>Diabetico</th>\n",
       "    </tr>\n",
       "  </thead>\n",
       "  <tbody>\n",
       "    <tr>\n",
       "      <th>0</th>\n",
       "      <td>6</td>\n",
       "      <td>148</td>\n",
       "      <td>72</td>\n",
       "      <td>35</td>\n",
       "      <td>0</td>\n",
       "      <td>33.6</td>\n",
       "      <td>0.627</td>\n",
       "      <td>50</td>\n",
       "      <td>1</td>\n",
       "    </tr>\n",
       "    <tr>\n",
       "      <th>1</th>\n",
       "      <td>1</td>\n",
       "      <td>85</td>\n",
       "      <td>66</td>\n",
       "      <td>29</td>\n",
       "      <td>0</td>\n",
       "      <td>26.6</td>\n",
       "      <td>0.351</td>\n",
       "      <td>31</td>\n",
       "      <td>0</td>\n",
       "    </tr>\n",
       "    <tr>\n",
       "      <th>2</th>\n",
       "      <td>8</td>\n",
       "      <td>183</td>\n",
       "      <td>64</td>\n",
       "      <td>0</td>\n",
       "      <td>0</td>\n",
       "      <td>23.3</td>\n",
       "      <td>0.672</td>\n",
       "      <td>32</td>\n",
       "      <td>1</td>\n",
       "    </tr>\n",
       "    <tr>\n",
       "      <th>3</th>\n",
       "      <td>1</td>\n",
       "      <td>89</td>\n",
       "      <td>66</td>\n",
       "      <td>23</td>\n",
       "      <td>94</td>\n",
       "      <td>28.1</td>\n",
       "      <td>0.167</td>\n",
       "      <td>21</td>\n",
       "      <td>0</td>\n",
       "    </tr>\n",
       "    <tr>\n",
       "      <th>4</th>\n",
       "      <td>0</td>\n",
       "      <td>137</td>\n",
       "      <td>40</td>\n",
       "      <td>35</td>\n",
       "      <td>168</td>\n",
       "      <td>43.1</td>\n",
       "      <td>2.288</td>\n",
       "      <td>33</td>\n",
       "      <td>1</td>\n",
       "    </tr>\n",
       "    <tr>\n",
       "      <th>5</th>\n",
       "      <td>5</td>\n",
       "      <td>116</td>\n",
       "      <td>74</td>\n",
       "      <td>0</td>\n",
       "      <td>0</td>\n",
       "      <td>25.6</td>\n",
       "      <td>0.201</td>\n",
       "      <td>30</td>\n",
       "      <td>0</td>\n",
       "    </tr>\n",
       "    <tr>\n",
       "      <th>6</th>\n",
       "      <td>3</td>\n",
       "      <td>78</td>\n",
       "      <td>50</td>\n",
       "      <td>32</td>\n",
       "      <td>88</td>\n",
       "      <td>31.0</td>\n",
       "      <td>0.248</td>\n",
       "      <td>26</td>\n",
       "      <td>1</td>\n",
       "    </tr>\n",
       "    <tr>\n",
       "      <th>7</th>\n",
       "      <td>10</td>\n",
       "      <td>115</td>\n",
       "      <td>0</td>\n",
       "      <td>0</td>\n",
       "      <td>0</td>\n",
       "      <td>35.3</td>\n",
       "      <td>0.134</td>\n",
       "      <td>29</td>\n",
       "      <td>0</td>\n",
       "    </tr>\n",
       "    <tr>\n",
       "      <th>8</th>\n",
       "      <td>2</td>\n",
       "      <td>197</td>\n",
       "      <td>70</td>\n",
       "      <td>45</td>\n",
       "      <td>543</td>\n",
       "      <td>30.5</td>\n",
       "      <td>0.158</td>\n",
       "      <td>53</td>\n",
       "      <td>1</td>\n",
       "    </tr>\n",
       "    <tr>\n",
       "      <th>9</th>\n",
       "      <td>8</td>\n",
       "      <td>125</td>\n",
       "      <td>96</td>\n",
       "      <td>0</td>\n",
       "      <td>0</td>\n",
       "      <td>0.0</td>\n",
       "      <td>0.232</td>\n",
       "      <td>54</td>\n",
       "      <td>1</td>\n",
       "    </tr>\n",
       "  </tbody>\n",
       "</table>\n",
       "</div>"
      ],
      "text/plain": [
       "   Semanas_Embarazo  Nivel_Glucosa  Presión_Arterial  Grosor_Piel  \\\n",
       "0                 6            148                72           35   \n",
       "1                 1             85                66           29   \n",
       "2                 8            183                64            0   \n",
       "3                 1             89                66           23   \n",
       "4                 0            137                40           35   \n",
       "5                 5            116                74            0   \n",
       "6                 3             78                50           32   \n",
       "7                10            115                 0            0   \n",
       "8                 2            197                70           45   \n",
       "9                 8            125                96            0   \n",
       "\n",
       "   Nivel_Insulina   IMC  Funcion_Pedigrí  Edad  Diabetico  \n",
       "0               0  33.6            0.627    50          1  \n",
       "1               0  26.6            0.351    31          0  \n",
       "2               0  23.3            0.672    32          1  \n",
       "3              94  28.1            0.167    21          0  \n",
       "4             168  43.1            2.288    33          1  \n",
       "5               0  25.6            0.201    30          0  \n",
       "6              88  31.0            0.248    26          1  \n",
       "7               0  35.3            0.134    29          0  \n",
       "8             543  30.5            0.158    53          1  \n",
       "9               0   0.0            0.232    54          1  "
      ]
     },
     "execution_count": 10,
     "metadata": {},
     "output_type": "execute_result"
    }
   ],
   "source": [
    "# Realizamos lectura de los Datos para el análisis exploratorio\n",
    "\n",
    "Datos.head(10)"
   ]
  },
  {
   "cell_type": "code",
   "execution_count": 11,
   "id": "4c6cb377-34e2-4ae9-b6d6-46360f678a2e",
   "metadata": {},
   "outputs": [
    {
     "data": {
      "text/html": [
       "<div>\n",
       "<style scoped>\n",
       "    .dataframe tbody tr th:only-of-type {\n",
       "        vertical-align: middle;\n",
       "    }\n",
       "\n",
       "    .dataframe tbody tr th {\n",
       "        vertical-align: top;\n",
       "    }\n",
       "\n",
       "    .dataframe thead th {\n",
       "        text-align: right;\n",
       "    }\n",
       "</style>\n",
       "<table border=\"1\" class=\"dataframe\">\n",
       "  <thead>\n",
       "    <tr style=\"text-align: right;\">\n",
       "      <th></th>\n",
       "      <th>Semanas_Embarazo</th>\n",
       "      <th>Nivel_Glucosa</th>\n",
       "      <th>Presión_Arterial</th>\n",
       "      <th>Grosor_Piel</th>\n",
       "      <th>Nivel_Insulina</th>\n",
       "      <th>IMC</th>\n",
       "      <th>Funcion_Pedigrí</th>\n",
       "      <th>Edad</th>\n",
       "      <th>Diabetico</th>\n",
       "    </tr>\n",
       "  </thead>\n",
       "  <tbody>\n",
       "    <tr>\n",
       "      <th>count</th>\n",
       "      <td>768.000000</td>\n",
       "      <td>768.000000</td>\n",
       "      <td>768.000000</td>\n",
       "      <td>768.000000</td>\n",
       "      <td>768.000000</td>\n",
       "      <td>768.000000</td>\n",
       "      <td>768.000000</td>\n",
       "      <td>768.000000</td>\n",
       "      <td>768.000000</td>\n",
       "    </tr>\n",
       "    <tr>\n",
       "      <th>mean</th>\n",
       "      <td>3.845052</td>\n",
       "      <td>120.894531</td>\n",
       "      <td>69.105469</td>\n",
       "      <td>20.536458</td>\n",
       "      <td>79.799479</td>\n",
       "      <td>31.992578</td>\n",
       "      <td>0.471876</td>\n",
       "      <td>33.240885</td>\n",
       "      <td>0.348958</td>\n",
       "    </tr>\n",
       "    <tr>\n",
       "      <th>std</th>\n",
       "      <td>3.369578</td>\n",
       "      <td>31.972618</td>\n",
       "      <td>19.355807</td>\n",
       "      <td>15.952218</td>\n",
       "      <td>115.244002</td>\n",
       "      <td>7.884160</td>\n",
       "      <td>0.331329</td>\n",
       "      <td>11.760232</td>\n",
       "      <td>0.476951</td>\n",
       "    </tr>\n",
       "    <tr>\n",
       "      <th>min</th>\n",
       "      <td>0.000000</td>\n",
       "      <td>0.000000</td>\n",
       "      <td>0.000000</td>\n",
       "      <td>0.000000</td>\n",
       "      <td>0.000000</td>\n",
       "      <td>0.000000</td>\n",
       "      <td>0.078000</td>\n",
       "      <td>21.000000</td>\n",
       "      <td>0.000000</td>\n",
       "    </tr>\n",
       "    <tr>\n",
       "      <th>25%</th>\n",
       "      <td>1.000000</td>\n",
       "      <td>99.000000</td>\n",
       "      <td>62.000000</td>\n",
       "      <td>0.000000</td>\n",
       "      <td>0.000000</td>\n",
       "      <td>27.300000</td>\n",
       "      <td>0.243750</td>\n",
       "      <td>24.000000</td>\n",
       "      <td>0.000000</td>\n",
       "    </tr>\n",
       "    <tr>\n",
       "      <th>50%</th>\n",
       "      <td>3.000000</td>\n",
       "      <td>117.000000</td>\n",
       "      <td>72.000000</td>\n",
       "      <td>23.000000</td>\n",
       "      <td>30.500000</td>\n",
       "      <td>32.000000</td>\n",
       "      <td>0.372500</td>\n",
       "      <td>29.000000</td>\n",
       "      <td>0.000000</td>\n",
       "    </tr>\n",
       "    <tr>\n",
       "      <th>75%</th>\n",
       "      <td>6.000000</td>\n",
       "      <td>140.250000</td>\n",
       "      <td>80.000000</td>\n",
       "      <td>32.000000</td>\n",
       "      <td>127.250000</td>\n",
       "      <td>36.600000</td>\n",
       "      <td>0.626250</td>\n",
       "      <td>41.000000</td>\n",
       "      <td>1.000000</td>\n",
       "    </tr>\n",
       "    <tr>\n",
       "      <th>max</th>\n",
       "      <td>17.000000</td>\n",
       "      <td>199.000000</td>\n",
       "      <td>122.000000</td>\n",
       "      <td>99.000000</td>\n",
       "      <td>846.000000</td>\n",
       "      <td>67.100000</td>\n",
       "      <td>2.420000</td>\n",
       "      <td>81.000000</td>\n",
       "      <td>1.000000</td>\n",
       "    </tr>\n",
       "  </tbody>\n",
       "</table>\n",
       "</div>"
      ],
      "text/plain": [
       "       Semanas_Embarazo  Nivel_Glucosa  Presión_Arterial  Grosor_Piel  \\\n",
       "count        768.000000     768.000000        768.000000   768.000000   \n",
       "mean           3.845052     120.894531         69.105469    20.536458   \n",
       "std            3.369578      31.972618         19.355807    15.952218   \n",
       "min            0.000000       0.000000          0.000000     0.000000   \n",
       "25%            1.000000      99.000000         62.000000     0.000000   \n",
       "50%            3.000000     117.000000         72.000000    23.000000   \n",
       "75%            6.000000     140.250000         80.000000    32.000000   \n",
       "max           17.000000     199.000000        122.000000    99.000000   \n",
       "\n",
       "       Nivel_Insulina         IMC  Funcion_Pedigrí        Edad   Diabetico  \n",
       "count      768.000000  768.000000       768.000000  768.000000  768.000000  \n",
       "mean        79.799479   31.992578         0.471876   33.240885    0.348958  \n",
       "std        115.244002    7.884160         0.331329   11.760232    0.476951  \n",
       "min          0.000000    0.000000         0.078000   21.000000    0.000000  \n",
       "25%          0.000000   27.300000         0.243750   24.000000    0.000000  \n",
       "50%         30.500000   32.000000         0.372500   29.000000    0.000000  \n",
       "75%        127.250000   36.600000         0.626250   41.000000    1.000000  \n",
       "max        846.000000   67.100000         2.420000   81.000000    1.000000  "
      ]
     },
     "execution_count": 11,
     "metadata": {},
     "output_type": "execute_result"
    }
   ],
   "source": [
    "# Descripción de los datos\n",
    "Datos.describe()"
   ]
  },
  {
   "cell_type": "code",
   "execution_count": 12,
   "id": "d9243992-5516-4bce-a852-444b12f5a3f5",
   "metadata": {},
   "outputs": [
    {
     "data": {
      "text/plain": [
       "Text(0.5, 1.0, 'Identificación de Datos Faltantes y Atípicos')"
      ]
     },
     "execution_count": 12,
     "metadata": {},
     "output_type": "execute_result"
    },
    {
     "data": {
      "image/png": "[encoded data removed]",
      "text/plain": [
       "<Figure size 600x300 with 1 Axes>"
      ]
     },
     "metadata": {},
     "output_type": "display_data"
    }
   ],
   "source": [
    "#Identificación de Datos Faltantes y Atípicos\n",
    "\n",
    "plt.figure(figsize=(6, 3))\n",
    "sns.boxplot(x=Datos['IMC'])\n",
    "plt.title('Identificación de Datos Faltantes y Atípicos', fontsize=10 )"
   ]
  },
  {
   "cell_type": "code",
   "execution_count": 13,
   "id": "ca6f00f6-49d9-45c5-bd13-221fc2590f13",
   "metadata": {},
   "outputs": [
    {
     "data": {
      "text/plain": [
       "Text(0.5, 1.0, 'Identificación de Datos Faltantes y Atípicos')"
      ]
     },
     "execution_count": 13,
     "metadata": {},
     "output_type": "execute_result"
    },
    {
     "data": {
      "image/png": "[encoded data removed]",
      "text/plain": [
       "<Figure size 600x300 with 1 Axes>"
      ]
     },
     "metadata": {},
     "output_type": "display_data"
    }
   ],
   "source": [
    "#Identificación de Datos Faltantes y Atípicos\n",
    "\n",
    "plt.figure(figsize=(6, 3))\n",
    "sns.boxplot(x=Datos['Edad'])\n",
    "plt.title('Identificación de Datos Faltantes y Atípicos', fontsize=10 )"
   ]
  },
  {
   "cell_type": "code",
   "execution_count": 14,
   "id": "36846a67-51e8-463f-991a-debc2ba0aef9",
   "metadata": {},
   "outputs": [
    {
     "data": {
      "text/plain": [
       "Text(0.5, 1.0, 'Identificación de Datos Faltantes y Atípicos')"
      ]
     },
     "execution_count": 14,
     "metadata": {},
     "output_type": "execute_result"
    },
    {
     "data": {
      "image/png": "[encoded data removed]",
      "text/plain": [
       "<Figure size 600x300 with 1 Axes>"
      ]
     },
     "metadata": {},
     "output_type": "display_data"
    }
   ],
   "source": [
    "#Identificación de Datos Faltantes y Atípicos\n",
    "\n",
    "plt.figure(figsize=(6, 3))\n",
    "sns.boxplot(x=Datos['Grosor_Piel'])\n",
    "plt.title('Identificación de Datos Faltantes y Atípicos', fontsize=10 )"
   ]
  },
  {
   "cell_type": "markdown",
   "id": "32200dec-75cb-4ae8-8933-c1a827abbcd9",
   "metadata": {},
   "source": [
    "## 2. Preprocesar los datos limpiándolos, tratando valores faltantes y transformándolos según sea necesario"
   ]
  },
  {
   "cell_type": "code",
   "execution_count": 15,
   "id": "b23fdb74-0251-41a2-88a7-32a0d3707e3c",
   "metadata": {},
   "outputs": [
    {
     "name": "stdout",
     "output_type": "stream",
     "text": [
      "Cantidad de Registros con cero en Nivel de Glucosa:  5\n",
      "Cantidad de Registros con cero en Presión Arterial:  35\n",
      "Cantidad de Registros con cero en Grosor Piel:  227\n",
      "Cantidad de Registros con cero en Nivel Insulina:  374\n",
      "Cantidad de Registros con cero en IMC:  11\n"
     ]
    }
   ],
   "source": [
    "#Revisión de datos faltantes\n",
    "\n",
    "print(\"Cantidad de Registros con cero en Nivel de Glucosa: \",Datos['Nivel_Glucosa'].isin([0]).sum())\n",
    "print(\"Cantidad de Registros con cero en Presión Arterial: \",Datos['Presión_Arterial'].isin([0]).sum())\n",
    "print(\"Cantidad de Registros con cero en Grosor Piel: \",Datos['Grosor_Piel'].isin([0]).sum())\n",
    "print(\"Cantidad de Registros con cero en Nivel Insulina: \",Datos['Nivel_Insulina'].isin([0]).sum())\n",
    "print(\"Cantidad de Registros con cero en IMC: \",Datos['IMC'].isin([0]).sum())"
   ]
  },
  {
   "cell_type": "code",
   "execution_count": 16,
   "id": "704f110b-8442-45ee-b782-a0a5d66620d2",
   "metadata": {},
   "outputs": [],
   "source": [
    "# Reemplazar todos los ceros con el valor medio (promedio) de la columna.\n",
    "\n",
    "Datos['Nivel_Glucosa']=Datos['Nivel_Glucosa'].replace(0,Datos['Nivel_Glucosa'].mean())\n",
    "Datos['Presión_Arterial']=Datos['Presión_Arterial'].replace(0,Datos['Presión_Arterial'].mean())\n",
    "Datos['Grosor_Piel']=Datos['Grosor_Piel'].replace(0,Datos['Grosor_Piel'].mean())\n",
    "Datos['Nivel_Insulina']=Datos['Nivel_Insulina'].replace(0,Datos['Nivel_Insulina'].mean())\n",
    "Datos['IMC']=Datos['IMC'].replace(0,Datos['IMC'].mean())"
   ]
  },
  {
   "cell_type": "code",
   "execution_count": 17,
   "id": "04b1d05b-c96d-4aec-b012-5d8e2d18a9ba",
   "metadata": {},
   "outputs": [
    {
     "name": "stdout",
     "output_type": "stream",
     "text": [
      "Cantidad de Registros con cero en Nivel de Glucosa:  0\n",
      "Cantidad de Registros con cero en Presión Arterial:  0\n",
      "Cantidad de Registros con cero en Grosor Piel:  0\n",
      "Cantidad de Registros con cero en Nivel Insulina:  0\n",
      "Cantidad de Registros con cero en IMC:  0\n"
     ]
    }
   ],
   "source": [
    "#Revisión nuevamente de datos faltantes\n",
    "\n",
    "print(\"Cantidad de Registros con cero en Nivel de Glucosa: \",Datos['Nivel_Glucosa'].isin([0]).sum())\n",
    "print(\"Cantidad de Registros con cero en Presión Arterial: \",Datos['Presión_Arterial'].isin([0]).sum())\n",
    "print(\"Cantidad de Registros con cero en Grosor Piel: \",Datos['Grosor_Piel'].isin([0]).sum())\n",
    "print(\"Cantidad de Registros con cero en Nivel Insulina: \",Datos['Nivel_Insulina'].isin([0]).sum())\n",
    "print(\"Cantidad de Registros con cero en IMC: \",Datos['IMC'].isin([0]).sum())"
   ]
  },
  {
   "cell_type": "code",
   "execution_count": 18,
   "id": "3b029630-c42d-434f-a010-ae6d670ca9de",
   "metadata": {},
   "outputs": [
    {
     "data": {
      "text/plain": [
       "Text(0.5, 1.0, 'Identificación de Datos Atípicos')"
      ]
     },
     "execution_count": 18,
     "metadata": {},
     "output_type": "execute_result"
    },
    {
     "data": {
      "image/png": "[encoded data removed]",
      "text/plain": [
       "<Figure size 600x300 with 1 Axes>"
      ]
     },
     "metadata": {},
     "output_type": "display_data"
    }
   ],
   "source": [
    "#Identificación de Datos Atípicos\n",
    "\n",
    "plt.figure(figsize=(6, 3))\n",
    "sns.boxplot(x=Datos['Nivel_Insulina'])\n",
    "plt.title('Identificación de Datos Atípicos', fontsize=10 )"
   ]
  },
  {
   "cell_type": "code",
   "execution_count": 19,
   "id": "10dafccd-2812-420e-95d3-7414d31fc735",
   "metadata": {},
   "outputs": [
    {
     "name": "stdout",
     "output_type": "stream",
     "text": [
      "El total de datos atípicos es 6\n"
     ]
    }
   ],
   "source": [
    "#Conteo de Datos Atípicos\n",
    "\n",
    "nivel_minimo=20\n",
    "nivel_maximo=800\n",
    "Total_Atipicos=((Datos['Nivel_Insulina']<nivel_minimo)|(Datos['Nivel_Insulina']>nivel_maximo)).sum()\n",
    "print(\"El total de datos atípicos es {}\".format(Total_Atipicos))"
   ]
  },
  {
   "cell_type": "code",
   "execution_count": 20,
   "id": "0dc265a6-e4f5-4388-b60f-a9619eb0a9f8",
   "metadata": {},
   "outputs": [],
   "source": [
    "# Filtra Datos Atípicos\n",
    "\n",
    "Datos=Datos[(Datos['Nivel_Insulina']<nivel_maximo)&(Datos['Nivel_Insulina']>nivel_minimo)]"
   ]
  },
  {
   "cell_type": "code",
   "execution_count": 21,
   "id": "4faa4e34-f773-4f47-9797-e5b095420f40",
   "metadata": {},
   "outputs": [
    {
     "name": "stdout",
     "output_type": "stream",
     "text": [
      "El total de datos atípicos es 0\n"
     ]
    }
   ],
   "source": [
    "# Validar si se removieron los datos atípicos\n",
    "\n",
    "Total_Atipicos=((Datos['Nivel_Insulina']<nivel_minimo)|(Datos['Nivel_Insulina']>nivel_maximo)).sum()\n",
    "print(\"El total de datos atípicos es {}\".format(Total_Atipicos))"
   ]
  },
  {
   "cell_type": "code",
   "execution_count": null,
   "id": "cf83882c-2ae5-4ccf-ae70-e71eb53e1cd3",
   "metadata": {},
   "outputs": [],
   "source": [
    "#Revisión del tipo de datos y datos faltantes\n",
    "\n",
    "Datos.info()"
   ]
  },
  {
   "cell_type": "markdown",
   "id": "b7e0be37-3f2b-483d-8b6b-b4daf59aca6b",
   "metadata": {},
   "source": [
    "## 3.Seleccionar las características más relevantes para entrenar el modelo utilizando selección de características"
   ]
  },
  {
   "cell_type": "markdown",
   "id": "c1f818d9-edb9-4c49-927f-bf4907161fae",
   "metadata": {},
   "source": [
    "Característica de interes:\n",
    "* Diabetico: si la persona tiene diabetes o no (0 = no tiene diabetes - 1 = si tiene diabetes)\n",
    "* Predecir si una persona puede tener diabetes"
   ]
  },
  {
   "cell_type": "code",
   "execution_count": 22,
   "id": "f6f83c17-9074-4329-8535-0ae895edb581",
   "metadata": {},
   "outputs": [
    {
     "data": {
      "text/plain": [
       "Diabetico\n",
       "0    496\n",
       "1    266\n",
       "Name: count, dtype: int64"
      ]
     },
     "execution_count": 22,
     "metadata": {},
     "output_type": "execute_result"
    }
   ],
   "source": [
    "# Total de personas con Diabetes\n",
    "\n",
    "Datos['Diabetico'].value_counts()"
   ]
  },
  {
   "cell_type": "markdown",
   "id": "a8cb5b0e-a417-4da8-bf23-b6395266b241",
   "metadata": {},
   "source": [
    "## 4. Dividir el dataset en Train y Test para evaluar correctamente el modelo"
   ]
  },
  {
   "cell_type": "code",
   "execution_count": 23,
   "id": "48550b6f-ad12-4108-aeeb-71a6063ab663",
   "metadata": {},
   "outputs": [],
   "source": [
    "# Porcentaje de datos para entrenamiento (train) = 75% , y para prueba (test) = 25%\n",
    "\n",
    "# Se crean variables X y Y para almacenar la información del entrenamiento\n",
    "\n",
    "X = Datos.drop('Diabetico',axis=1) # Se cargan los datos de train sin los datos de la columna Diabetico \n",
    "Y = Datos['Diabetico'] # Se cargan los datos de train con los datos de la la columna Diabetico\n",
    "\n",
    "#La función train_test_split crea una división de un conjunto de datos en dos bloques uno de entrenamiento y otro de prueba (train and test)\n",
    "X_train, X_test, Y_train, Y_test = train_test_split(X, Y, test_size=0.25, stratify=Y, random_state= 0)\n"
   ]
  },
  {
   "cell_type": "code",
   "execution_count": 24,
   "id": "d1eb3ebc-c276-4435-8c9f-036ab0dcc65f",
   "metadata": {},
   "outputs": [
    {
     "name": "stdout",
     "output_type": "stream",
     "text": [
      "     Semanas_Embarazo  Nivel_Glucosa  Presión_Arterial  Grosor_Piel  \\\n",
      "499                 6     154.000000              74.0    32.000000   \n",
      "183                 5      73.000000              60.0    20.536458   \n",
      "260                 3     191.000000              68.0    15.000000   \n",
      "615                 3     106.000000              72.0    20.536458   \n",
      "114                 7     160.000000              54.0    32.000000   \n",
      "..                ...            ...               ...          ...   \n",
      "267                 2     128.000000              64.0    42.000000   \n",
      "502                 6     120.894531              68.0    41.000000   \n",
      "218                 5      85.000000              74.0    22.000000   \n",
      "537                 0      57.000000              60.0    20.536458   \n",
      "436                12     140.000000              85.0    33.000000   \n",
      "\n",
      "     Nivel_Insulina   IMC  Funcion_Pedigrí  Edad  \n",
      "499      193.000000  29.3            0.839    39  \n",
      "183       79.799479  26.8            0.268    27  \n",
      "260      130.000000  30.9            0.299    34  \n",
      "615       79.799479  25.8            0.207    27  \n",
      "114      175.000000  30.5            0.588    39  \n",
      "..              ...   ...              ...   ...  \n",
      "267       79.799479  40.0            1.101    24  \n",
      "502       79.799479  39.0            0.727    41  \n",
      "218       79.799479  29.0            1.224    32  \n",
      "537       79.799479  21.7            0.735    67  \n",
      "436       79.799479  37.4            0.244    41  \n",
      "\n",
      "[571 rows x 8 columns]\n"
     ]
    }
   ],
   "source": [
    "print (X_train)"
   ]
  },
  {
   "cell_type": "code",
   "execution_count": 25,
   "id": "a48b148c-5f11-48fa-89d6-50416fbba5c0",
   "metadata": {},
   "outputs": [
    {
     "name": "stdout",
     "output_type": "stream",
     "text": [
      "     Semanas_Embarazo  Nivel_Glucosa  Presión_Arterial  Grosor_Piel  \\\n",
      "315                 2          112.0              68.0    22.000000   \n",
      "199                 4          148.0              60.0    27.000000   \n",
      "341                 1           95.0              74.0    21.000000   \n",
      "676                 9          156.0              86.0    20.536458   \n",
      "58                  0          146.0              82.0    20.536458   \n",
      "..                ...            ...               ...          ...   \n",
      "432                 1           80.0              74.0    11.000000   \n",
      "165                 6          104.0              74.0    18.000000   \n",
      "464                10          115.0              98.0    20.536458   \n",
      "415                 3          173.0              84.0    33.000000   \n",
      "241                 4           91.0              70.0    32.000000   \n",
      "\n",
      "     Nivel_Insulina   IMC  Funcion_Pedigrí  Edad  \n",
      "315       94.000000  34.1            0.315    26  \n",
      "199      318.000000  30.9            0.150    29  \n",
      "341       73.000000  25.9            0.673    36  \n",
      "676       79.799479  24.8            0.230    53  \n",
      "58        79.799479  40.5            1.781    44  \n",
      "..              ...   ...              ...   ...  \n",
      "432       60.000000  30.0            0.527    22  \n",
      "165      156.000000  29.9            0.722    41  \n",
      "464       79.799479  24.0            1.022    34  \n",
      "415      474.000000  35.7            0.258    22  \n",
      "241       88.000000  33.1            0.446    22  \n",
      "\n",
      "[191 rows x 8 columns]\n"
     ]
    }
   ],
   "source": [
    "print (X_test)"
   ]
  },
  {
   "cell_type": "markdown",
   "id": "b41d10f4-738c-415b-99bb-754a73b7a71d",
   "metadata": {},
   "source": [
    "## 5. Entrenar el modelo configurando los diferentes hiperparámetros"
   ]
  },
  {
   "cell_type": "code",
   "execution_count": 26,
   "id": "dcc6d4d1-d5fb-4c73-bb51-2be65a9fda60",
   "metadata": {},
   "outputs": [],
   "source": [
    "# Construir el modelo de regresión logística \n",
    "\n",
    "modelo_regresion = LogisticRegression(solver = \"liblinear\") # liblinear es una libreria para resolver problemas lineales de clasificación y regresión\n",
    "modelo_regresion.fit (X_train , Y_train)   \n",
    "\n",
    "# Crea el modelo de prediccion\n",
    "Prediccion = modelo_regresion.predict(X_test) # la función predict predice los valores a partir del conjunto de datos de validación\n"
   ]
  },
  {
   "cell_type": "code",
   "execution_count": 27,
   "id": "beb875c2-70d0-40d9-8de6-312f5cf28acb",
   "metadata": {},
   "outputs": [
    {
     "data": {
      "text/html": [
       "<div>\n",
       "<style scoped>\n",
       "    .dataframe tbody tr th:only-of-type {\n",
       "        vertical-align: middle;\n",
       "    }\n",
       "\n",
       "    .dataframe tbody tr th {\n",
       "        vertical-align: top;\n",
       "    }\n",
       "\n",
       "    .dataframe thead th {\n",
       "        text-align: right;\n",
       "    }\n",
       "</style>\n",
       "<table border=\"1\" class=\"dataframe\">\n",
       "  <thead>\n",
       "    <tr style=\"text-align: right;\">\n",
       "      <th></th>\n",
       "      <th>Semanas_Embarazo</th>\n",
       "      <th>Nivel_Glucosa</th>\n",
       "      <th>Presión_Arterial</th>\n",
       "      <th>Grosor_Piel</th>\n",
       "      <th>Nivel_Insulina</th>\n",
       "      <th>IMC</th>\n",
       "      <th>Funcion_Pedigrí</th>\n",
       "      <th>Edad</th>\n",
       "    </tr>\n",
       "  </thead>\n",
       "  <tbody>\n",
       "    <tr>\n",
       "      <th>315</th>\n",
       "      <td>2</td>\n",
       "      <td>112.0</td>\n",
       "      <td>68.0</td>\n",
       "      <td>22.000000</td>\n",
       "      <td>94.000000</td>\n",
       "      <td>34.1</td>\n",
       "      <td>0.315</td>\n",
       "      <td>26</td>\n",
       "    </tr>\n",
       "    <tr>\n",
       "      <th>199</th>\n",
       "      <td>4</td>\n",
       "      <td>148.0</td>\n",
       "      <td>60.0</td>\n",
       "      <td>27.000000</td>\n",
       "      <td>318.000000</td>\n",
       "      <td>30.9</td>\n",
       "      <td>0.150</td>\n",
       "      <td>29</td>\n",
       "    </tr>\n",
       "    <tr>\n",
       "      <th>341</th>\n",
       "      <td>1</td>\n",
       "      <td>95.0</td>\n",
       "      <td>74.0</td>\n",
       "      <td>21.000000</td>\n",
       "      <td>73.000000</td>\n",
       "      <td>25.9</td>\n",
       "      <td>0.673</td>\n",
       "      <td>36</td>\n",
       "    </tr>\n",
       "    <tr>\n",
       "      <th>676</th>\n",
       "      <td>9</td>\n",
       "      <td>156.0</td>\n",
       "      <td>86.0</td>\n",
       "      <td>20.536458</td>\n",
       "      <td>79.799479</td>\n",
       "      <td>24.8</td>\n",
       "      <td>0.230</td>\n",
       "      <td>53</td>\n",
       "    </tr>\n",
       "    <tr>\n",
       "      <th>58</th>\n",
       "      <td>0</td>\n",
       "      <td>146.0</td>\n",
       "      <td>82.0</td>\n",
       "      <td>20.536458</td>\n",
       "      <td>79.799479</td>\n",
       "      <td>40.5</td>\n",
       "      <td>1.781</td>\n",
       "      <td>44</td>\n",
       "    </tr>\n",
       "    <tr>\n",
       "      <th>649</th>\n",
       "      <td>0</td>\n",
       "      <td>107.0</td>\n",
       "      <td>60.0</td>\n",
       "      <td>25.000000</td>\n",
       "      <td>79.799479</td>\n",
       "      <td>26.4</td>\n",
       "      <td>0.133</td>\n",
       "      <td>23</td>\n",
       "    </tr>\n",
       "    <tr>\n",
       "      <th>597</th>\n",
       "      <td>1</td>\n",
       "      <td>89.0</td>\n",
       "      <td>24.0</td>\n",
       "      <td>19.000000</td>\n",
       "      <td>25.000000</td>\n",
       "      <td>27.8</td>\n",
       "      <td>0.559</td>\n",
       "      <td>21</td>\n",
       "    </tr>\n",
       "    <tr>\n",
       "      <th>112</th>\n",
       "      <td>1</td>\n",
       "      <td>89.0</td>\n",
       "      <td>76.0</td>\n",
       "      <td>34.000000</td>\n",
       "      <td>37.000000</td>\n",
       "      <td>31.2</td>\n",
       "      <td>0.192</td>\n",
       "      <td>23</td>\n",
       "    </tr>\n",
       "    <tr>\n",
       "      <th>467</th>\n",
       "      <td>0</td>\n",
       "      <td>97.0</td>\n",
       "      <td>64.0</td>\n",
       "      <td>36.000000</td>\n",
       "      <td>100.000000</td>\n",
       "      <td>36.8</td>\n",
       "      <td>0.600</td>\n",
       "      <td>25</td>\n",
       "    </tr>\n",
       "    <tr>\n",
       "      <th>27</th>\n",
       "      <td>1</td>\n",
       "      <td>97.0</td>\n",
       "      <td>66.0</td>\n",
       "      <td>15.000000</td>\n",
       "      <td>140.000000</td>\n",
       "      <td>23.2</td>\n",
       "      <td>0.487</td>\n",
       "      <td>22</td>\n",
       "    </tr>\n",
       "  </tbody>\n",
       "</table>\n",
       "</div>"
      ],
      "text/plain": [
       "     Semanas_Embarazo  Nivel_Glucosa  Presión_Arterial  Grosor_Piel  \\\n",
       "315                 2          112.0              68.0    22.000000   \n",
       "199                 4          148.0              60.0    27.000000   \n",
       "341                 1           95.0              74.0    21.000000   \n",
       "676                 9          156.0              86.0    20.536458   \n",
       "58                  0          146.0              82.0    20.536458   \n",
       "649                 0          107.0              60.0    25.000000   \n",
       "597                 1           89.0              24.0    19.000000   \n",
       "112                 1           89.0              76.0    34.000000   \n",
       "467                 0           97.0              64.0    36.000000   \n",
       "27                  1           97.0              66.0    15.000000   \n",
       "\n",
       "     Nivel_Insulina   IMC  Funcion_Pedigrí  Edad  \n",
       "315       94.000000  34.1            0.315    26  \n",
       "199      318.000000  30.9            0.150    29  \n",
       "341       73.000000  25.9            0.673    36  \n",
       "676       79.799479  24.8            0.230    53  \n",
       "58        79.799479  40.5            1.781    44  \n",
       "649       79.799479  26.4            0.133    23  \n",
       "597       25.000000  27.8            0.559    21  \n",
       "112       37.000000  31.2            0.192    23  \n",
       "467      100.000000  36.8            0.600    25  \n",
       "27       140.000000  23.2            0.487    22  "
      ]
     },
     "execution_count": 27,
     "metadata": {},
     "output_type": "execute_result"
    }
   ],
   "source": [
    "X_test.head(10)"
   ]
  },
  {
   "cell_type": "code",
   "execution_count": 28,
   "id": "34472f9a-e324-4d44-9824-e4d68431a079",
   "metadata": {},
   "outputs": [
    {
     "name": "stdout",
     "output_type": "stream",
     "text": [
      "[0 0 0 0 1 0 0 0 0 0 0 1 0 0 0 0 0 0 0 0 0 0 0 0 1 1 0 0 1 0 0 0 1 0 0 0 0\n",
      " 0 0 0 0 1 1 0 0 0 1 0 1 0 1 1 0 0 1 0 0 1 1 0 0 0 0 0 0 0 0 1 0 0 0 1 0 0\n",
      " 0 1 0 0 1 1 1 1 0 0 0 1 1 1 0 0 1 1 0 0 1 0 0 1 0 1 1 0 0 0 0 0 1 0 1 0 0\n",
      " 0 0 0 0 1 1 0 0 0 0 0 0 0 0 0 0 0 0 1 0 0 0 0 1 0 0 1 1 0 1 0 0 1 0 1 0 0\n",
      " 0 0 0 0 1 0 0 1 0 0 0 0 0 0 0 0 0 1 0 1 0 1 0 0 0 0 1 0 0 0 0 0 0 1 0 0 0\n",
      " 1 0 0 0 1 0]\n"
     ]
    }
   ],
   "source": [
    "print (Prediccion)"
   ]
  },
  {
   "cell_type": "markdown",
   "id": "25c1ba72-cb7c-4b70-ad9f-93aaaf1294e4",
   "metadata": {},
   "source": [
    "## 6. Evaluar el desempeño del modelo en el conjunto de Test con métricas como precisión, recall, F1-score, etc"
   ]
  },
  {
   "cell_type": "code",
   "execution_count": 29,
   "id": "f87071fe-fca8-438f-ad01-ce60bf3bd987",
   "metadata": {},
   "outputs": [
    {
     "name": "stdout",
     "output_type": "stream",
     "text": [
      "              precision    recall  f1-score   support\n",
      "\n",
      "           0       0.78      0.88      0.83       124\n",
      "           1       0.71      0.54      0.61        67\n",
      "\n",
      "    accuracy                           0.76       191\n",
      "   macro avg       0.74      0.71      0.72       191\n",
      "weighted avg       0.75      0.76      0.75       191\n",
      "\n"
     ]
    }
   ],
   "source": [
    "# Desempeño del modelo de regresión\n",
    "\n",
    "print(classification_report(Y_test,Prediccion))"
   ]
  },
  {
   "cell_type": "markdown",
   "id": "783564a6-322a-4673-a8a0-5a1e71ba7f6c",
   "metadata": {},
   "source": [
    "## 7. Realizar las diferentes gráficas que permitan visualizar los resultados del modelo"
   ]
  },
  {
   "cell_type": "code",
   "execution_count": 30,
   "id": "6c094bef-6b89-4411-9fc0-a534ab35d4fd",
   "metadata": {},
   "outputs": [
    {
     "data": {
      "text/plain": [
       "<sklearn.metrics._plot.confusion_matrix.ConfusionMatrixDisplay at 0x16344544c90>"
      ]
     },
     "execution_count": 30,
     "metadata": {},
     "output_type": "execute_result"
    },
    {
     "data": {
      "image/png": "[encoded data removed]",
      "text/plain": [
       "<Figure size 640x480 with 2 Axes>"
      ]
     },
     "metadata": {},
     "output_type": "display_data"
    }
   ],
   "source": [
    "#Matrix de Confusión del modelo\n",
    "\n",
    "cm=confusion_matrix(Y_test,Prediccion)\n",
    "disp=metrics.ConfusionMatrixDisplay(confusion_matrix=cm)\n",
    "disp.plot()"
   ]
  },
  {
   "cell_type": "code",
   "execution_count": 31,
   "id": "31d538a7-a662-4936-8331-c943f92c3ad5",
   "metadata": {},
   "outputs": [
    {
     "data": {
      "image/png": "[encoded data removed]",
      "text/plain": [
       "<Figure size 640x480 with 1 Axes>"
      ]
     },
     "metadata": {},
     "output_type": "display_data"
    }
   ],
   "source": [
    "# Curva de precisón del modelo\n",
    "\n",
    "from sklearn.metrics import RocCurveDisplay\n",
    "RocCurveDisplay.from_predictions(Y_test, Prediccion)\n",
    "plt.show()"
   ]
  },
  {
   "cell_type": "markdown",
   "id": "f9482850-08f5-46d5-9fe0-6375d9167201",
   "metadata": {},
   "source": [
    "## 8. Interpretar, analizar y documentar los resultados obtenidos"
   ]
  },
  {
   "cell_type": "markdown",
   "id": "94ea73b6-5050-48c5-b2e1-5eef72f10e62",
   "metadata": {},
   "source": [
    "Del desempeño del modelo se puede describir:\n",
    "\n",
    "- Precisión: Precisión mide la proporción de predicciones positivas verdaderas entre todas las predicciones positivas realizadas por el modelo. Aquí la precisión para la clase \"diabético\" es 0,71, lo que significa que el 71% de los predichos como diabéticos por el modelo eran en realidad diabéticos.\n",
    "\n",
    "- Recall: Mide la proporción de predicciones positivas verdaderas entre todas las instancias positivas reales en el conjunto de datos. Aquí el Recall para la clase \"diabético\" es 0,54, lo que indica que el modelo identificó correctamente al 54% de todos los diabéticos.\n",
    "\n",
    "- F1 Score: Es la media armónica de precisión y recall. Proporciona una puntuación única que equilibra la precisión y recall. Aquí la puntuación F1 para la clase \"diabética\" es 0,61, lo que indica un equilibrio entre precisión y recall.\n",
    "\n",
    "\n",
    "De la Matriz de Confusión podemos interpretar:\n",
    "\n",
    "- Verdaderos negativos: el recuento de observaciones que un clasificador predijo correctamente como falso 109\n",
    "\n",
    "- Verdaderos positivos: el recuento de observaciones que un clasificador predijo correctamente como Verdadero 36\n",
    "\n",
    "- Falsos positivos: el recuento de observaciones que un clasificador predijo incorrectamente como Verdaderas 15\n",
    "\n",
    "- Falsos negativos: el recuento de observaciones que un clasificador predijo incorrectamente como falso 31\n",
    "\n",
    "De la curva de precisión del modelo se puede interpretar:\n",
    "\n",
    "- El AUC es 0,71 lo que significa que el 71% de las predicciones del clasificador son correctas en todos los umbrales de clasificación.\n",
    "\n"
   ]
  },
  {
   "cell_type": "markdown",
   "id": "235f9f6e-56ba-4bd7-93c3-311ad1569013",
   "metadata": {},
   "source": [
    "## 9. Crear una cuenta en GitHub y cargar los códigos de los modelos diseñados https://github.com/"
   ]
  }
 ],
 "metadata": {
  "kernelspec": {
   "display_name": "Python 3 (ipykernel)",
   "language": "python",
   "name": "python3"
  },
  "language_info": {
   "codemirror_mode": {
    "name": "ipython",
    "version": 3
   },
   "file_extension": ".py",
   "mimetype": "text/x-python",
   "name": "python",
   "nbconvert_exporter": "python",
   "pygments_lexer": "ipython3",
   "version": "3.11.7"
  }
 },
 "nbformat": 4,
 "nbformat_minor": 5
}
